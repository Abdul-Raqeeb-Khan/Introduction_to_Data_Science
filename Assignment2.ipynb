{
  "cells": [
    {
      "cell_type": "markdown",
      "metadata": {},
      "source": [
        "PART 1: DATA PROCESSING WITH LIST"
      ]
    },
    {
      "cell_type": "code",
      "execution_count": null,
      "metadata": {
        "id": "emcnyBws2n4t"
      },
      "outputs": [],
      "source": [
        "###################   1 #################\n",
        "def func1(t):\n",
        "    lst = []\n",
        "    nms = []\n",
        "    for r in range(len(t)):\n",
        "        if t[r][2] >= 30 and (t[r][3] == 'USA' or t[r][3] == 'Pakistan'):\n",
        "            lst.append(t[r])\n",
        "            nms.append(t[r][1])\n",
        "\n",
        "    print(lst)\n",
        "    print(nms)\n",
        "func1(data)\n",
        "print()\n",
        "def func2(d):\n",
        "    srt = sorted(d, key=lambda x: x[2])\n",
        "    top_old = []\n",
        "\n",
        "    for idx in range(len(srt) - 1, len(srt) - 11, -1):\n",
        "        top_old.append(srt[idx])\n",
        "    print(top_old)\n",
        "    dup_check = []\n",
        "\n",
        "    dup_names = []\n",
        "\n",
        "    for rec in d:\n",
        "        if rec[1] not in dup_check:\n",
        "            dup_check.append(rec[1])\n",
        "        else:\n",
        "            dup_names.append(rec[1])\n",
        "    if len(dup_names) == 0:\n",
        "        print(\"No\")\n",
        "    else:\n",
        "        print(\"Yes\")\n",
        "        print(dup_names)\n",
        "\n",
        "\n",
        "func2(data)\n"
      ]
    },
    {
      "cell_type": "markdown",
      "metadata": {},
      "source": [
        "PART 2: IMMUTABLE DATA MANAGEMENT WITH TUPLE"
      ]
    },
    {
      "cell_type": "code",
      "execution_count": null,
      "metadata": {
        "colab": {
          "base_uri": "https://localhost:8080/",
          "height": 211
        },
        "id": "fOFk2nG43YNd",
        "outputId": "2b30db1c-c7e4-4dde-f0b0-842057ba4ca7"
      },
      "outputs": [],
      "source": [
        "\n",
        "###################   2 #################\n",
        "\n",
        "def unique_names(data):\n",
        "    unique_list = []\n",
        "    for entry in data:\n",
        "        if entry[1] not in unique_list:\n",
        "            unique_list.append(entry[1])\n",
        "    print(len(unique_list))\n",
        "unique_names(trans)\n",
        "def max_amount(data):\n",
        "    sorted_data = sorted(data, key=lambda x: x[2], reverse=True)\n",
        "    print(sorted_data[0])\n",
        "max_amount(trans)\n",
        "def separate_lists(data):\n",
        "    ids = []\n",
        "    users = []\n",
        "    for entry in data:\n",
        "        if entry[0] not in ids:\n",
        "            ids.append(entry[0])\n",
        "        if entry[1] not in users:\n",
        "            users.append(entry[1])\n",
        "    print(ids)\n",
        "    print(users)\n",
        "separate_lists(trans)\n"
      ]
    },
    {
      "cell_type": "markdown",
      "metadata": {},
      "source": [
        "PART 3: UNIQUE DATA HANDLING WITH SETS"
      ]
    },
    {
      "cell_type": "code",
      "execution_count": null,
      "metadata": {
        "id": "6h22t0l432sb"
      },
      "outputs": [],
      "source": [
        "###############  3  ###############\n",
        "\n",
        "def handle_sets(set1, set2, set3):\n",
        "    print(set1 & set2)\n",
        "    print((set1 | set2) - (set1 & set2))\n",
        "\n",
        "handle_sets(page_a, page_b, page_c)\n",
        "print()\n",
        "\n",
        "def modify_sets(set1, set2, set3):\n",
        "    set1.add(34)\n",
        "    set1.update([35, 36, 37])\n",
        "    print(set1)\n",
        "    set2.remove(83)\n",
        "    print(set2)\n",
        "modify_sets(a,b,c)\n"
      ]
    },
    {
      "cell_type": "markdown",
      "metadata": {},
      "source": [
        "PART 4: DATA AGGREGATION WITH DICTIONARIES"
      ]
    },
    {
      "cell_type": "code",
      "execution_count": null,
      "metadata": {
        "colab": {
          "base_uri": "https://localhost:8080/",
          "height": 106
        },
        "id": "72NklvkK4sKF",
        "outputId": "90ec5648-9d81-42c2-d54c-485fecf3c5f7"
      },
      "outputs": [],
      "source": [
        "\n",
        "###############  4  ###############\n",
        "\n",
        "def dict_ratings(data):\n",
        "    high_ratings = []\n",
        "    for user_id, details in data.items():\n",
        "        if details['rating'] >= 4:\n",
        "            high_ratings.append((user_id, details['rating']))\n",
        "    high_ratings = dict(high_ratings)\n",
        "    print(high_ratings)\n",
        "\n",
        "dict_ratings(user_data)\n",
        "\n",
        "def sort_ratings(data):\n",
        "    sorted_data = sorted(data.items(), key=lambda x: x[1]['rating'], reverse=True)\n",
        "    print(dict(sorted_data[0:5]))\n",
        "\n",
        "sort_ratings(user_data)\n",
        "\n",
        "def merge_data(data1, data2):\n",
        "    combined_data = {}\n",
        "    data_list = [data1, data2]\n",
        "\n",
        "    for dataset in data_list:\n",
        "        for user, details in dataset.items():\n",
        "            if user in combined_data:\n",
        "                combined_data[user][\"rating\"] = max(combined_data[user][\"rating\"], details[\"rating\"])\n",
        "                combined_data[user][\"comments\"] += \" \" + details[\"comments\"]\n",
        "            else:\n",
        "                combined_data[user] = details.copy()\n",
        "    for user, details in combined_data.items():\n",
        "        print(f\"{user}: Rating = {details['rating']}, Comments = {details['comments']}\")\n",
        "merge_data(user_data, user_data2)\n"
      ]
    }
  ],
  "metadata": {
    "colab": {
      "provenance": []
    },
    "kernelspec": {
      "display_name": "Python 3",
      "name": "python3"
    },
    "language_info": {
      "codemirror_mode": {
        "name": "ipython",
        "version": 3
      },
      "file_extension": ".py",
      "mimetype": "text/x-python",
      "name": "python",
      "nbconvert_exporter": "python",
      "pygments_lexer": "ipython3",
      "version": "3.11.5"
    }
  },
  "nbformat": 4,
  "nbformat_minor": 0
}
